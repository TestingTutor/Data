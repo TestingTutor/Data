{
 "cells": [
  {
   "cell_type": "markdown",
   "metadata": {},
   "source": [
    "# This file contains the data analysis that accompanies the following SIGCSE2021 paper:             \n",
    "\n",
    "## Cordova, L., Carver, J., Walia, G., and Gershmel, N. \"A Comparison of Inquiry-Based Conceptual Feedback vs. Traditional Detailed Feedback Mechanisms in Software Testing Education:  An Empirical Investigation.\" _Proceedings of the 52nd Technical Sympoisumn on Computer Science Education (SIGCSE 2021)_. To appear.                                                               "
   ]
  },
  {
   "cell_type": "markdown",
   "metadata": {},
   "source": [
    "Read in data files with raw data:                                                               \n",
    "* StudyData.csv contains the data from the assignments during the courses                         \n",
    "* SurveyData.csv contains the results from the post-study survey                                  "
   ]
  },
  {
   "cell_type": "code",
   "execution_count": 1,
   "metadata": {},
   "outputs": [],
   "source": [
    "StudyData <- read.csv(\"StudyData.csv\")\n",
    "SurveyData <- read.csv(\"SurveyData.csv\")"
   ]
  },
  {
   "cell_type": "markdown",
   "metadata": {},
   "source": [
    "## Analyze data for Assignment 1 alone. This assignment serves as the pre-test  \n",
    "\n",
    "These tests are 2-way ANOVAs using the following factors                                        \n",
    "* Factor 1 - Study (Spring/Summer)                                                              \n",
    "* Factor 2 - Treatment (Raw/Conceptual)                                                         "
   ]
  },
  {
   "cell_type": "markdown",
   "metadata": {},
   "source": [
    "### First create a slice of the data in A1 that contains only data from assignment 1"
   ]
  },
  {
   "cell_type": "code",
   "execution_count": 2,
   "metadata": {},
   "outputs": [],
   "source": [
    "A1 = StudyData[StudyData$Assignment. == c(\"1\"),]"
   ]
  },
  {
   "cell_type": "markdown",
   "metadata": {},
   "source": [
    "### Second, compute means for Table 2 in paper"
   ]
  },
  {
   "cell_type": "code",
   "execution_count": 3,
   "metadata": {},
   "outputs": [],
   "source": [
    "A1_Raw_Line_mean <- mean(A1[A1$TreatmentInt == \"1\", c(\"Line\")])\n",
    "A1_Conceptual_Line_mean <- mean(A1[A1$TreatmentInt == \"2\", c(\"Line\")])\n",
    "A1_Raw_Branch_mean <- mean(A1[A1$TreatmentInt == \"1\", c(\"Branch\")])\n",
    "A1_Conceptual_Branch_mean <- mean(A1[A1$TreatmentInt == \"2\", c(\"Branch\")])\n",
    "A1_Raw_Conditional_mean <- mean(A1[A1$TreatmentInt == \"1\", c(\"Conditional\")])\n",
    "A1_Conceptual_Conditional_mean <- mean(A1[A1$TreatmentInt == \"2\", c(\"Conditional\")])\n",
    "A1_Raw_Redundancies_mean <- mean(A1[A1$TreatmentInt == \"1\", c(\"Redundancies\")])\n",
    "A1_Conceptual_Redundancies_mean <- mean(A1[A1$TreatmentInt == \"2\", c(\"Redundancies\")])\n",
    "A1_Raw_AssignmentGrade_mean <- mean(A1[A1$TreatmentInt == \"1\", c(\"AssignmentGrade\")])\n",
    "A1_Conceptual_AssignmentGrade_mean <- mean(A1[A1$TreatmentInt == \"2\", c(\"AssignmentGrade\")])"
   ]
  },
  {
   "cell_type": "markdown",
   "metadata": {},
   "source": [
    "#### Create a Data Frame to easily display the results that appear in Table 2 in the paper"
   ]
  },
  {
   "cell_type": "code",
   "execution_count": 4,
   "metadata": {},
   "outputs": [
    {
     "data": {
      "text/html": [
       "<table>\n",
       "<caption>A data.frame: 5 × 3</caption>\n",
       "<thead>\n",
       "\t<tr><th scope=col>Dependent Variable</th><th scope=col>Treatment A (Detailed)</th><th scope=col>Treatement B (Conceptual)</th></tr>\n",
       "\t<tr><th scope=col>&lt;fct&gt;</th><th scope=col>&lt;dbl&gt;</th><th scope=col>&lt;dbl&gt;</th></tr>\n",
       "</thead>\n",
       "<tbody>\n",
       "\t<tr><td>Line Coverage       </td><td> 0.3507143</td><td> 0.3574194</td></tr>\n",
       "\t<tr><td>Branch Coverage     </td><td> 0.3628571</td><td> 0.3493548</td></tr>\n",
       "\t<tr><td>Conditional Coverage</td><td> 0.3510714</td><td> 0.3661290</td></tr>\n",
       "\t<tr><td>Redundant Tests     </td><td> 4.8571429</td><td> 4.9032258</td></tr>\n",
       "\t<tr><td>Assignment Grade    </td><td>57.9464286</td><td>58.4274194</td></tr>\n",
       "</tbody>\n",
       "</table>\n"
      ],
      "text/latex": [
       "A data.frame: 5 × 3\n",
       "\\begin{tabular}{lll}\n",
       " Dependent Variable & Treatment A (Detailed) & Treatement B (Conceptual)\\\\\n",
       " <fct> & <dbl> & <dbl>\\\\\n",
       "\\hline\n",
       "\t Line Coverage        &  0.3507143 &  0.3574194\\\\\n",
       "\t Branch Coverage      &  0.3628571 &  0.3493548\\\\\n",
       "\t Conditional Coverage &  0.3510714 &  0.3661290\\\\\n",
       "\t Redundant Tests      &  4.8571429 &  4.9032258\\\\\n",
       "\t Assignment Grade     & 57.9464286 & 58.4274194\\\\\n",
       "\\end{tabular}\n"
      ],
      "text/markdown": [
       "\n",
       "A data.frame: 5 × 3\n",
       "\n",
       "| Dependent Variable &lt;fct&gt; | Treatment A (Detailed) &lt;dbl&gt; | Treatement B (Conceptual) &lt;dbl&gt; |\n",
       "|---|---|---|\n",
       "| Line Coverage        |  0.3507143 |  0.3574194 |\n",
       "| Branch Coverage      |  0.3628571 |  0.3493548 |\n",
       "| Conditional Coverage |  0.3510714 |  0.3661290 |\n",
       "| Redundant Tests      |  4.8571429 |  4.9032258 |\n",
       "| Assignment Grade     | 57.9464286 | 58.4274194 |\n",
       "\n"
      ],
      "text/plain": [
       "  Dependent Variable   Treatment A (Detailed) Treatement B (Conceptual)\n",
       "1 Line Coverage         0.3507143              0.3574194               \n",
       "2 Branch Coverage       0.3628571              0.3493548               \n",
       "3 Conditional Coverage  0.3510714              0.3661290               \n",
       "4 Redundant Tests       4.8571429              4.9032258               \n",
       "5 Assignment Grade     57.9464286             58.4274194               "
      ]
     },
     "metadata": {},
     "output_type": "display_data"
    }
   ],
   "source": [
    "Pre_test <- data.frame(c(\"Line Coverage\", \"Branch Coverage\", \"Conditional Coverage\", \"Redundant Tests\",\"Assignment Grade\"),\n",
    "                       c(A1_Raw_Line_mean,A1_Raw_Branch_mean,A1_Raw_Conditional_mean,A1_Raw_Redundancies_mean,A1_Raw_AssignmentGrade_mean),\n",
    "                       c(A1_Conceptual_Line_mean,A1_Conceptual_Branch_mean,A1_Conceptual_Conditional_mean,A1_Conceptual_Redundancies_mean,A1_Conceptual_AssignmentGrade_mean))\n",
    "colnames(Pre_test) <- c(\"Dependent Variable\", \"Treatment A (Detailed)\",\"Treatement B (Conceptual)\")\n",
    "Pre_test"
   ]
  },
  {
   "cell_type": "markdown",
   "metadata": {},
   "source": [
    "### Third compute ANOVAs using the two factors listed above:\n",
    "* Factor 1 - Study (Spring/Summer)                                                           \n",
    "* Factor 2 - Treatment (Raw/Conceptual)"
   ]
  },
  {
   "cell_type": "code",
   "execution_count": 5,
   "metadata": {},
   "outputs": [
    {
     "name": "stdout",
     "output_type": "stream",
     "text": [
      "-----------------------------------------------------------------------------\n",
      "Line ANOVA"
     ]
    },
    {
     "data": {
      "text/plain": [
       "                          Df Sum Sq Mean Sq F value Pr(>F)\n",
       "A1$Study.                  1 0.0004 0.00042   0.016  0.900\n",
       "A1$TreatmentInt            1 0.0007 0.00068   0.026  0.873\n",
       "A1$Study.:A1$TreatmentInt  1 0.0412 0.04125   1.563  0.217\n",
       "Residuals                 55 1.4515 0.02639               "
      ]
     },
     "metadata": {},
     "output_type": "display_data"
    },
    {
     "name": "stdout",
     "output_type": "stream",
     "text": [
      "-----------------------------------------------------------------------------\n",
      "Branch ANOVA"
     ]
    },
    {
     "data": {
      "text/plain": [
       "                          Df Sum Sq  Mean Sq F value Pr(>F)\n",
       "A1$Study.                  1 0.0220 0.021979   0.817  0.370\n",
       "A1$TreatmentInt            1 0.0030 0.002992   0.111  0.740\n",
       "A1$Study.:A1$TreatmentInt  1 0.0009 0.000926   0.034  0.854\n",
       "Residuals                 55 1.4803 0.026915               "
      ]
     },
     "metadata": {},
     "output_type": "display_data"
    },
    {
     "name": "stdout",
     "output_type": "stream",
     "text": [
      "-----------------------------------------------------------------------------\n",
      "Conditional ANOVA"
     ]
    },
    {
     "data": {
      "text/plain": [
       "                          Df Sum Sq  Mean Sq F value Pr(>F)\n",
       "A1$Study.                  1 0.0137 0.013671   0.650  0.424\n",
       "A1$TreatmentInt            1 0.0031 0.003078   0.146  0.704\n",
       "A1$Study.:A1$TreatmentInt  1 0.0084 0.008425   0.400  0.530\n",
       "Residuals                 55 1.1574 0.021043               "
      ]
     },
     "metadata": {},
     "output_type": "display_data"
    },
    {
     "name": "stdout",
     "output_type": "stream",
     "text": [
      "-----------------------------------------------------------------------------\n",
      "Redundant ANOVA"
     ]
    },
    {
     "data": {
      "text/plain": [
       "                          Df Sum Sq Mean Sq F value Pr(>F)  \n",
       "A1$Study.                  1    4.0   4.007   0.593 0.4445  \n",
       "A1$TreatmentInt            1    0.0   0.047   0.007 0.9341  \n",
       "A1$Study.:A1$TreatmentInt  1   24.6  24.613   3.644 0.0615 .\n",
       "Residuals                 55  371.5   6.755                 \n",
       "---\n",
       "Signif. codes:  0 ‘***’ 0.001 ‘**’ 0.01 ‘*’ 0.05 ‘.’ 0.1 ‘ ’ 1"
      ]
     },
     "metadata": {},
     "output_type": "display_data"
    },
    {
     "name": "stdout",
     "output_type": "stream",
     "text": [
      "-----------------------------------------------------------------------------\n",
      "Grade ANOVA"
     ]
    },
    {
     "data": {
      "text/plain": [
       "                          Df Sum Sq Mean Sq F value Pr(>F)\n",
       "A1$Study.                  1    4.3    4.27   0.173  0.679\n",
       "A1$TreatmentInt            1    3.3    3.26   0.132  0.718\n",
       "A1$Study.:A1$TreatmentInt  1   67.6   67.58   2.733  0.104\n",
       "Residuals                 55 1360.1   24.73               "
      ]
     },
     "metadata": {},
     "output_type": "display_data"
    }
   ],
   "source": [
    "line_anova1 <- aov(A1$Line~A1$Study. * A1$TreatmentInt, data= A1)\n",
    "branch_anova1 <- aov(A1$Branch~A1$Study. * A1$TreatmentInt, data= A1)\n",
    "conditional_anova1 <- aov(A1$Conditional~A1$Study. * A1$TreatmentInt, data= A1)\n",
    "redundant_anova1 <- aov(A1$Redundancies~A1$Study. * A1$TreatmentInt, data= A1)\n",
    "grade_anova1 <- aov(A1$AssignmentGrade~A1$Study. * A1$TreatmentInt, data= A1)\n",
    "cat(\"-----------------------------------------------------------------------------\\n\")\n",
    "cat(\"Line ANOVA\")\n",
    "summary(line_anova1)\n",
    "cat(\"-----------------------------------------------------------------------------\\n\")\n",
    "cat(\"Branch ANOVA\")\n",
    "summary(branch_anova1)\n",
    "cat(\"-----------------------------------------------------------------------------\\n\")\n",
    "cat(\"Conditional ANOVA\")\n",
    "summary(conditional_anova1)\n",
    "cat(\"-----------------------------------------------------------------------------\\n\")\n",
    "cat(\"Redundant ANOVA\")\n",
    "summary(redundant_anova1)\n",
    "cat(\"-----------------------------------------------------------------------------\\n\")\n",
    "cat(\"Grade ANOVA\")\n",
    "summary(grade_anova1)"
   ]
  },
  {
   "cell_type": "markdown",
   "metadata": {},
   "source": [
    "## Analyze data for Assignments 2-4 alone. These assignments serve as the main study.         \n",
    "These tests are 3-way ANOVAs using the following factors                                        \n",
    "* Factor 1 - Study (Spring/Summer)                                                              \n",
    "* Factor 2 - Treatment (Raw/Conceptual)                                                         \n",
    "* Factor 3 - Assignment (2/3/4)     "
   ]
  },
  {
   "cell_type": "markdown",
   "metadata": {},
   "source": [
    "### First create a slice of the data in A2_4 that contains only data from assignments 2-4"
   ]
  },
  {
   "cell_type": "code",
   "execution_count": 6,
   "metadata": {},
   "outputs": [],
   "source": [
    "A2_4 = StudyData[StudyData$Assignment. %in% c(\"2\",\"3\",\"4\"),]"
   ]
  },
  {
   "cell_type": "markdown",
   "metadata": {},
   "source": [
    "### Second, compute means for Table 3 in paper"
   ]
  },
  {
   "cell_type": "code",
   "execution_count": 7,
   "metadata": {},
   "outputs": [],
   "source": [
    "A2_4_Raw_Line_mean <- mean(A2_4[A2_4$TreatmentInt == \"1\", c(\"Line\")])\n",
    "A2_4_Conceptual_Line_mean <- mean(A2_4[A2_4$TreatmentInt == \"2\", c(\"Line\")])\n",
    "A2_4_Raw_Branch_mean <- mean(A2_4[A2_4$TreatmentInt == \"1\", c(\"Branch\")])\n",
    "A2_4_Conceptual_Branch_mean <- mean(A2_4[A2_4$TreatmentInt == \"2\", c(\"Branch\")])\n",
    "A2_4_Raw_Conditional_mean <- mean(A2_4[A2_4$TreatmentInt == \"1\", c(\"Conditional\")])\n",
    "A2_4_Conceptual_Conditional_mean <- mean(A2_4[A2_4$TreatmentInt == \"2\", c(\"Conditional\")])\n",
    "A2_4_Raw_Redundancies_mean <- mean(A2_4[A2_4$TreatmentInt == \"1\", c(\"Redundancies\")])\n",
    "A2_4_Conceptual_Redundancies_mean <- mean(A2_4[A2_4$TreatmentInt == \"2\", c(\"Redundancies\")])\n",
    "A2_4_Raw_AssignmentGrade_mean <- mean(A2_4[A2_4$TreatmentInt == \"1\", c(\"AssignmentGrade\")])\n",
    "A2_4_Conceptual_AssignmentGrade_mean <- mean(A2_4[A2_4$TreatmentInt == \"2\", c(\"AssignmentGrade\")])"
   ]
  },
  {
   "cell_type": "markdown",
   "metadata": {},
   "source": [
    "#### Create a Data Frame to easily display the results that appear in Table 3 in the paper"
   ]
  },
  {
   "cell_type": "code",
   "execution_count": 8,
   "metadata": {},
   "outputs": [
    {
     "data": {
      "text/html": [
       "<table>\n",
       "<caption>A data.frame: 5 × 3</caption>\n",
       "<thead>\n",
       "\t<tr><th scope=col>Dependent Variable</th><th scope=col>Treatment A (Detailed)</th><th scope=col>Treatement B (Conceptual)</th></tr>\n",
       "\t<tr><th scope=col>&lt;fct&gt;</th><th scope=col>&lt;dbl&gt;</th><th scope=col>&lt;dbl&gt;</th></tr>\n",
       "</thead>\n",
       "<tbody>\n",
       "\t<tr><td>Line Coverage       </td><td> 0.4341667</td><td> 0.5506452</td></tr>\n",
       "\t<tr><td>Branch Coverage     </td><td> 0.4311905</td><td> 0.5267742</td></tr>\n",
       "\t<tr><td>Conditional Coverage</td><td> 0.4535714</td><td> 0.5751613</td></tr>\n",
       "\t<tr><td>Redundant Tests     </td><td> 4.8571429</td><td> 3.3333333</td></tr>\n",
       "\t<tr><td>Assignment Grade    </td><td>60.3720238</td><td>68.2661290</td></tr>\n",
       "</tbody>\n",
       "</table>\n"
      ],
      "text/latex": [
       "A data.frame: 5 × 3\n",
       "\\begin{tabular}{lll}\n",
       " Dependent Variable & Treatment A (Detailed) & Treatement B (Conceptual)\\\\\n",
       " <fct> & <dbl> & <dbl>\\\\\n",
       "\\hline\n",
       "\t Line Coverage        &  0.4341667 &  0.5506452\\\\\n",
       "\t Branch Coverage      &  0.4311905 &  0.5267742\\\\\n",
       "\t Conditional Coverage &  0.4535714 &  0.5751613\\\\\n",
       "\t Redundant Tests      &  4.8571429 &  3.3333333\\\\\n",
       "\t Assignment Grade     & 60.3720238 & 68.2661290\\\\\n",
       "\\end{tabular}\n"
      ],
      "text/markdown": [
       "\n",
       "A data.frame: 5 × 3\n",
       "\n",
       "| Dependent Variable &lt;fct&gt; | Treatment A (Detailed) &lt;dbl&gt; | Treatement B (Conceptual) &lt;dbl&gt; |\n",
       "|---|---|---|\n",
       "| Line Coverage        |  0.4341667 |  0.5506452 |\n",
       "| Branch Coverage      |  0.4311905 |  0.5267742 |\n",
       "| Conditional Coverage |  0.4535714 |  0.5751613 |\n",
       "| Redundant Tests      |  4.8571429 |  3.3333333 |\n",
       "| Assignment Grade     | 60.3720238 | 68.2661290 |\n",
       "\n"
      ],
      "text/plain": [
       "  Dependent Variable   Treatment A (Detailed) Treatement B (Conceptual)\n",
       "1 Line Coverage         0.4341667              0.5506452               \n",
       "2 Branch Coverage       0.4311905              0.5267742               \n",
       "3 Conditional Coverage  0.4535714              0.5751613               \n",
       "4 Redundant Tests       4.8571429              3.3333333               \n",
       "5 Assignment Grade     60.3720238             68.2661290               "
      ]
     },
     "metadata": {},
     "output_type": "display_data"
    }
   ],
   "source": [
    "Main_study <- data.frame(c(\"Line Coverage\", \"Branch Coverage\", \"Conditional Coverage\", \"Redundant Tests\",\"Assignment Grade\"),\n",
    "                       c(A2_4_Raw_Line_mean,A2_4_Raw_Branch_mean,A2_4_Raw_Conditional_mean,A2_4_Raw_Redundancies_mean,A2_4_Raw_AssignmentGrade_mean),\n",
    "                       c(A2_4_Conceptual_Line_mean,A2_4_Conceptual_Branch_mean,A2_4_Conceptual_Conditional_mean,A2_4_Conceptual_Redundancies_mean,A2_4_Conceptual_AssignmentGrade_mean))\n",
    "colnames(Main_study) <- c(\"Dependent Variable\", \"Treatment A (Detailed)\",\"Treatement B (Conceptual)\")\n",
    "Main_study"
   ]
  },
  {
   "cell_type": "markdown",
   "metadata": {},
   "source": [
    "### Third compute ANOVAs using the three factors listed above:\n",
    "* Factor 1 - Study (Spring/Summer)\n",
    "* Factor 2 - Treatment (Raw/Conceptual)\n",
    "* Factor 3 - Assignment (2/3/4)"
   ]
  },
  {
   "cell_type": "code",
   "execution_count": 9,
   "metadata": {},
   "outputs": [
    {
     "name": "stdout",
     "output_type": "stream",
     "text": [
      "-----------------------------------------------------------------------------\n",
      "Line ANOVA"
     ]
    },
    {
     "data": {
      "text/plain": [
       "                                                Df Sum Sq Mean Sq F value\n",
       "A2_4$Study.                                      1  0.012  0.0117   0.418\n",
       "A2_4$TreatmentInt                                1  0.596  0.5958  21.248\n",
       "A2_4$Assignment.                                 1  0.034  0.0339   1.209\n",
       "A2_4$Study.:A2_4$TreatmentInt                    1  0.036  0.0356   1.268\n",
       "A2_4$Study.:A2_4$Assignment.                     1  0.028  0.0282   1.006\n",
       "A2_4$TreatmentInt:A2_4$Assignment.               1  0.106  0.1064   3.793\n",
       "A2_4$Study.:A2_4$TreatmentInt:A2_4$Assignment.   1  0.053  0.0526   1.877\n",
       "Residuals                                      169  4.738  0.0280        \n",
       "                                                 Pr(>F)    \n",
       "A2_4$Study.                                      0.5188    \n",
       "A2_4$TreatmentInt                              7.92e-06 ***\n",
       "A2_4$Assignment.                                 0.2731    \n",
       "A2_4$Study.:A2_4$TreatmentInt                    0.2617    \n",
       "A2_4$Study.:A2_4$Assignment.                     0.3174    \n",
       "A2_4$TreatmentInt:A2_4$Assignment.               0.0531 .  \n",
       "A2_4$Study.:A2_4$TreatmentInt:A2_4$Assignment.   0.1725    \n",
       "Residuals                                                  \n",
       "---\n",
       "Signif. codes:  0 ‘***’ 0.001 ‘**’ 0.01 ‘*’ 0.05 ‘.’ 0.1 ‘ ’ 1"
      ]
     },
     "metadata": {},
     "output_type": "display_data"
    },
    {
     "name": "stdout",
     "output_type": "stream",
     "text": [
      "-----------------------------------------------------------------------------\n",
      "Branch ANOVA"
     ]
    },
    {
     "data": {
      "text/plain": [
       "                                                Df Sum Sq Mean Sq F value\n",
       "A2_4$Study.                                      1  0.007  0.0073   0.274\n",
       "A2_4$TreatmentInt                                1  0.406  0.4055  15.160\n",
       "A2_4$Assignment.                                 1  0.182  0.1817   6.792\n",
       "A2_4$Study.:A2_4$TreatmentInt                    1  0.038  0.0382   1.427\n",
       "A2_4$Study.:A2_4$Assignment.                     1  0.068  0.0678   2.536\n",
       "A2_4$TreatmentInt:A2_4$Assignment.               1  0.193  0.1926   7.202\n",
       "A2_4$Study.:A2_4$TreatmentInt:A2_4$Assignment.   1  0.000  0.0001   0.003\n",
       "Residuals                                      169  4.521  0.0267        \n",
       "                                                 Pr(>F)    \n",
       "A2_4$Study.                                    0.601413    \n",
       "A2_4$TreatmentInt                              0.000142 ***\n",
       "A2_4$Assignment.                               0.009976 ** \n",
       "A2_4$Study.:A2_4$TreatmentInt                  0.233876    \n",
       "A2_4$Study.:A2_4$Assignment.                   0.113161    \n",
       "A2_4$TreatmentInt:A2_4$Assignment.             0.008006 ** \n",
       "A2_4$Study.:A2_4$TreatmentInt:A2_4$Assignment. 0.958058    \n",
       "Residuals                                                  \n",
       "---\n",
       "Signif. codes:  0 ‘***’ 0.001 ‘**’ 0.01 ‘*’ 0.05 ‘.’ 0.1 ‘ ’ 1"
      ]
     },
     "metadata": {},
     "output_type": "display_data"
    },
    {
     "name": "stdout",
     "output_type": "stream",
     "text": [
      "-----------------------------------------------------------------------------\n",
      "Conditional ANOVA"
     ]
    },
    {
     "data": {
      "text/plain": [
       "                                                Df Sum Sq Mean Sq F value\n",
       "A2_4$Study.                                      1  0.135  0.1345   5.112\n",
       "A2_4$TreatmentInt                                1  0.664  0.6644  25.251\n",
       "A2_4$Assignment.                                 1  0.036  0.0356   1.354\n",
       "A2_4$Study.:A2_4$TreatmentInt                    1  0.001  0.0014   0.055\n",
       "A2_4$Study.:A2_4$Assignment.                     1  0.011  0.0105   0.401\n",
       "A2_4$TreatmentInt:A2_4$Assignment.               1  0.040  0.0402   1.530\n",
       "A2_4$Study.:A2_4$TreatmentInt:A2_4$Assignment.   1  0.006  0.0063   0.238\n",
       "Residuals                                      169  4.447  0.0263        \n",
       "                                                 Pr(>F)    \n",
       "A2_4$Study.                                       0.025 *  \n",
       "A2_4$TreatmentInt                              1.27e-06 ***\n",
       "A2_4$Assignment.                                  0.246    \n",
       "A2_4$Study.:A2_4$TreatmentInt                     0.816    \n",
       "A2_4$Study.:A2_4$Assignment.                      0.527    \n",
       "A2_4$TreatmentInt:A2_4$Assignment.                0.218    \n",
       "A2_4$Study.:A2_4$TreatmentInt:A2_4$Assignment.    0.626    \n",
       "Residuals                                                  \n",
       "---\n",
       "Signif. codes:  0 ‘***’ 0.001 ‘**’ 0.01 ‘*’ 0.05 ‘.’ 0.1 ‘ ’ 1"
      ]
     },
     "metadata": {},
     "output_type": "display_data"
    },
    {
     "name": "stdout",
     "output_type": "stream",
     "text": [
      "-----------------------------------------------------------------------------\n",
      "Redundant ANOVA"
     ]
    },
    {
     "data": {
      "text/plain": [
       "                                                Df Sum Sq Mean Sq F value\n",
       "A2_4$Study.                                      1    0.2    0.17   0.039\n",
       "A2_4$TreatmentInt                                1  102.4  102.36  23.308\n",
       "A2_4$Assignment.                                 1    0.5    0.54   0.124\n",
       "A2_4$Study.:A2_4$TreatmentInt                    1    8.6    8.65   1.969\n",
       "A2_4$Study.:A2_4$Assignment.                     1    0.8    0.78   0.178\n",
       "A2_4$TreatmentInt:A2_4$Assignment.               1    2.1    2.12   0.482\n",
       "A2_4$Study.:A2_4$TreatmentInt:A2_4$Assignment.   1    0.7    0.66   0.150\n",
       "Residuals                                      169  742.2    4.39        \n",
       "                                                 Pr(>F)    \n",
       "A2_4$Study.                                       0.844    \n",
       "A2_4$TreatmentInt                              3.07e-06 ***\n",
       "A2_4$Assignment.                                  0.726    \n",
       "A2_4$Study.:A2_4$TreatmentInt                     0.162    \n",
       "A2_4$Study.:A2_4$Assignment.                      0.674    \n",
       "A2_4$TreatmentInt:A2_4$Assignment.                0.488    \n",
       "A2_4$Study.:A2_4$TreatmentInt:A2_4$Assignment.    0.699    \n",
       "Residuals                                                  \n",
       "---\n",
       "Signif. codes:  0 ‘***’ 0.001 ‘**’ 0.01 ‘*’ 0.05 ‘.’ 0.1 ‘ ’ 1"
      ]
     },
     "metadata": {},
     "output_type": "display_data"
    },
    {
     "name": "stdout",
     "output_type": "stream",
     "text": [
      "-----------------------------------------------------------------------------\n",
      "Grade ANOVA"
     ]
    },
    {
     "data": {
      "text/plain": [
       "                                                Df Sum Sq Mean Sq F value\n",
       "A2_4$Study.                                      1      1     0.8   0.026\n",
       "A2_4$TreatmentInt                                1   2753  2753.3  90.240\n",
       "A2_4$Assignment.                                 1     48    47.7   1.562\n",
       "A2_4$Study.:A2_4$TreatmentInt                    1      5     4.8   0.156\n",
       "A2_4$Study.:A2_4$Assignment.                     1     25    24.6   0.806\n",
       "A2_4$TreatmentInt:A2_4$Assignment.               1    133   132.5   4.344\n",
       "A2_4$Study.:A2_4$TreatmentInt:A2_4$Assignment.   1      2     1.8   0.057\n",
       "Residuals                                      169   5156    30.5        \n",
       "                                               Pr(>F)    \n",
       "A2_4$Study.                                    0.8722    \n",
       "A2_4$TreatmentInt                              <2e-16 ***\n",
       "A2_4$Assignment.                               0.2130    \n",
       "A2_4$Study.:A2_4$TreatmentInt                  0.6937    \n",
       "A2_4$Study.:A2_4$Assignment.                   0.3705    \n",
       "A2_4$TreatmentInt:A2_4$Assignment.             0.0387 *  \n",
       "A2_4$Study.:A2_4$TreatmentInt:A2_4$Assignment. 0.8109    \n",
       "Residuals                                                \n",
       "---\n",
       "Signif. codes:  0 ‘***’ 0.001 ‘**’ 0.01 ‘*’ 0.05 ‘.’ 0.1 ‘ ’ 1"
      ]
     },
     "metadata": {},
     "output_type": "display_data"
    }
   ],
   "source": [
    "line_anova2 <- aov(A2_4$Line~A2_4$Study. * A2_4$TreatmentInt * A2_4$Assignment., data= A2_4)\n",
    "branch_anova2 <- aov(A2_4$Branch~A2_4$Study. * A2_4$TreatmentInt * A2_4$Assignment., data= A2_4)\n",
    "conditional_anova2 <- aov(A2_4$Conditional~A2_4$Study. * A2_4$TreatmentInt * A2_4$Assignment., data= A2_4)\n",
    "redundant_anova2 <- aov(A2_4$Redundancies~A2_4$Study. * A2_4$TreatmentInt * A2_4$Assignment., data= A2_4)\n",
    "grade_anova2 <- aov(A2_4$AssignmentGrade~A2_4$Study. * A2_4$TreatmentInt * A2_4$Assignment., data= A2_4)\n",
    "cat(\"-----------------------------------------------------------------------------\\n\")\n",
    "cat(\"Line ANOVA\")\n",
    "summary(line_anova2)\n",
    "cat(\"-----------------------------------------------------------------------------\\n\")\n",
    "cat(\"Branch ANOVA\")\n",
    "summary(branch_anova2)\n",
    "cat(\"-----------------------------------------------------------------------------\\n\")\n",
    "cat(\"Conditional ANOVA\")\n",
    "summary(conditional_anova2)\n",
    "cat(\"-----------------------------------------------------------------------------\\n\")\n",
    "cat(\"Redundant ANOVA\")\n",
    "summary(redundant_anova2)\n",
    "cat(\"-----------------------------------------------------------------------------\\n\")\n",
    "cat(\"Grade ANOVA\")\n",
    "summary(grade_anova2)"
   ]
  },
  {
   "cell_type": "markdown",
   "metadata": {},
   "source": [
    "## Analyze data for Assignment 5 alone. This assignment serves as the post-test                      These tests are 2-way ANOVAs using the following factors                                        \n",
    "* Factor 1 - Study (Spring/Summer)                                                              \n",
    "* Factor 2 - Treatment (Raw/Conceptual) "
   ]
  },
  {
   "cell_type": "markdown",
   "metadata": {},
   "source": [
    "### First create a slice of the data in A5 that contains only data from assignment 5"
   ]
  },
  {
   "cell_type": "code",
   "execution_count": 10,
   "metadata": {},
   "outputs": [],
   "source": [
    "A5 = StudyData[StudyData$Assignment. == c(\"5\"),]"
   ]
  },
  {
   "cell_type": "markdown",
   "metadata": {},
   "source": [
    "### Second, compute means for Table 4 in paper"
   ]
  },
  {
   "cell_type": "code",
   "execution_count": 11,
   "metadata": {},
   "outputs": [],
   "source": [
    "A5_Raw_Line_mean <- mean(A5[A5$TreatmentInt == \"1\", c(\"Line\")])\n",
    "A5_Conceptual_Line_mean <- mean(A5[A5$TreatmentInt == \"2\", c(\"Line\")])\n",
    "A5_Raw_Branch_mean <- mean(A5[A5$TreatmentInt == \"1\", c(\"Branch\")])\n",
    "A5_Conceptual_Branch_mean <- mean(A5[A5$TreatmentInt == \"2\", c(\"Branch\")])\n",
    "A5_Raw_Conditional_mean <- mean(A5[A5$TreatmentInt == \"1\", c(\"Conditional\")])\n",
    "A5_Conceptual_Conditional_mean <- mean(A5[A5$TreatmentInt == \"2\", c(\"Conditional\")])\n",
    "A5_Raw_Redundancies_mean <- mean(A5[A5$TreatmentInt == \"1\", c(\"Redundancies\")])\n",
    "A5_Conceptual_Redundancies_mean <- mean(A5[A5$TreatmentInt == \"2\", c(\"Redundancies\")])\n",
    "A5_Raw_AssignmentGrade_mean <- mean(A5[A5$TreatmentInt == \"1\", c(\"AssignmentGrade\")])\n",
    "A5_Conceptual_AssignmentGrade_mean <- mean(A5[A5$TreatmentInt == \"2\", c(\"AssignmentGrade\")])"
   ]
  },
  {
   "cell_type": "markdown",
   "metadata": {},
   "source": [
    "#### Create a Data Frame to easily display the results that appear in Table 4 in the paper"
   ]
  },
  {
   "cell_type": "code",
   "execution_count": 12,
   "metadata": {},
   "outputs": [
    {
     "data": {
      "text/html": [
       "<table>\n",
       "<caption>A data.frame: 5 × 3</caption>\n",
       "<thead>\n",
       "\t<tr><th scope=col>Dependent Variable</th><th scope=col>Treatment A (Detailed)</th><th scope=col>Treatement B (Conceptual)</th></tr>\n",
       "\t<tr><th scope=col>&lt;fct&gt;</th><th scope=col>&lt;dbl&gt;</th><th scope=col>&lt;dbl&gt;</th></tr>\n",
       "</thead>\n",
       "<tbody>\n",
       "\t<tr><td>Line Coverage       </td><td> 0.3789286</td><td> 0.6877419</td></tr>\n",
       "\t<tr><td>Branch Coverage     </td><td> 0.3867857</td><td> 0.6935484</td></tr>\n",
       "\t<tr><td>Conditional Coverage</td><td> 0.4482143</td><td> 0.7258065</td></tr>\n",
       "\t<tr><td>Redundant Tests     </td><td> 4.2857143</td><td> 2.2903226</td></tr>\n",
       "\t<tr><td>Assignment Grade    </td><td>60.3125000</td><td>78.9516129</td></tr>\n",
       "</tbody>\n",
       "</table>\n"
      ],
      "text/latex": [
       "A data.frame: 5 × 3\n",
       "\\begin{tabular}{lll}\n",
       " Dependent Variable & Treatment A (Detailed) & Treatement B (Conceptual)\\\\\n",
       " <fct> & <dbl> & <dbl>\\\\\n",
       "\\hline\n",
       "\t Line Coverage        &  0.3789286 &  0.6877419\\\\\n",
       "\t Branch Coverage      &  0.3867857 &  0.6935484\\\\\n",
       "\t Conditional Coverage &  0.4482143 &  0.7258065\\\\\n",
       "\t Redundant Tests      &  4.2857143 &  2.2903226\\\\\n",
       "\t Assignment Grade     & 60.3125000 & 78.9516129\\\\\n",
       "\\end{tabular}\n"
      ],
      "text/markdown": [
       "\n",
       "A data.frame: 5 × 3\n",
       "\n",
       "| Dependent Variable &lt;fct&gt; | Treatment A (Detailed) &lt;dbl&gt; | Treatement B (Conceptual) &lt;dbl&gt; |\n",
       "|---|---|---|\n",
       "| Line Coverage        |  0.3789286 |  0.6877419 |\n",
       "| Branch Coverage      |  0.3867857 |  0.6935484 |\n",
       "| Conditional Coverage |  0.4482143 |  0.7258065 |\n",
       "| Redundant Tests      |  4.2857143 |  2.2903226 |\n",
       "| Assignment Grade     | 60.3125000 | 78.9516129 |\n",
       "\n"
      ],
      "text/plain": [
       "  Dependent Variable   Treatment A (Detailed) Treatement B (Conceptual)\n",
       "1 Line Coverage         0.3789286              0.6877419               \n",
       "2 Branch Coverage       0.3867857              0.6935484               \n",
       "3 Conditional Coverage  0.4482143              0.7258065               \n",
       "4 Redundant Tests       4.2857143              2.2903226               \n",
       "5 Assignment Grade     60.3125000             78.9516129               "
      ]
     },
     "metadata": {},
     "output_type": "display_data"
    }
   ],
   "source": [
    "Post_test <- data.frame(c(\"Line Coverage\", \"Branch Coverage\", \"Conditional Coverage\", \"Redundant Tests\",\"Assignment Grade\"),\n",
    "                         c(A5_Raw_Line_mean,A5_Raw_Branch_mean,A5_Raw_Conditional_mean,A5_Raw_Redundancies_mean,A5_Raw_AssignmentGrade_mean),\n",
    "                         c(A5_Conceptual_Line_mean,A5_Conceptual_Branch_mean,A5_Conceptual_Conditional_mean,A5_Conceptual_Redundancies_mean,A5_Conceptual_AssignmentGrade_mean))\n",
    "colnames(Post_test) <- c(\"Dependent Variable\", \"Treatment A (Detailed)\",\"Treatement B (Conceptual)\")\n",
    "Post_test"
   ]
  },
  {
   "cell_type": "markdown",
   "metadata": {},
   "source": [
    "### Third compute ANOVAs using the two factors listed above:\n",
    "* Factor 1 - Study (Spring/Summer)\n",
    "* Factor 2 - Treatment (Raw/Conceptual)"
   ]
  },
  {
   "cell_type": "code",
   "execution_count": 13,
   "metadata": {},
   "outputs": [
    {
     "name": "stdout",
     "output_type": "stream",
     "text": [
      "-----------------------------------------------------------------------------\n",
      "Line ANOVA"
     ]
    },
    {
     "data": {
      "text/plain": [
       "                          Df Sum Sq Mean Sq F value   Pr(>F)    \n",
       "A5$Study.                  1 0.0062  0.0062   0.234    0.631    \n",
       "A5$TreatmentInt            1 1.4072  1.4072  52.635 1.44e-09 ***\n",
       "A5$Study.:A5$TreatmentInt  1 0.0007  0.0007   0.026    0.873    \n",
       "Residuals                 55 1.4705  0.0267                     \n",
       "---\n",
       "Signif. codes:  0 ‘***’ 0.001 ‘**’ 0.01 ‘*’ 0.05 ‘.’ 0.1 ‘ ’ 1"
      ]
     },
     "metadata": {},
     "output_type": "display_data"
    },
    {
     "name": "stdout",
     "output_type": "stream",
     "text": [
      "-----------------------------------------------------------------------------\n",
      "Branch ANOVA"
     ]
    },
    {
     "data": {
      "text/plain": [
       "                          Df Sum Sq Mean Sq F value   Pr(>F)    \n",
       "A5$Study.                  1 0.0803  0.0803   3.136   0.0821 .  \n",
       "A5$TreatmentInt            1 1.3719  1.3719  53.583 1.13e-09 ***\n",
       "A5$Study.:A5$TreatmentInt  1 0.0013  0.0013   0.051   0.8229    \n",
       "Residuals                 55 1.4082  0.0256                     \n",
       "---\n",
       "Signif. codes:  0 ‘***’ 0.001 ‘**’ 0.01 ‘*’ 0.05 ‘.’ 0.1 ‘ ’ 1"
      ]
     },
     "metadata": {},
     "output_type": "display_data"
    },
    {
     "name": "stdout",
     "output_type": "stream",
     "text": [
      "-----------------------------------------------------------------------------\n",
      "Conditional ANOVA"
     ]
    },
    {
     "data": {
      "text/plain": [
       "                          Df Sum Sq Mean Sq F value   Pr(>F)    \n",
       "A5$Study.                  1 0.0134  0.0134   0.669    0.417    \n",
       "A5$TreatmentInt            1 1.1389  1.1389  56.896 4.87e-10 ***\n",
       "A5$Study.:A5$TreatmentInt  1 0.0243  0.0243   1.216    0.275    \n",
       "Residuals                 55 1.1010  0.0200                     \n",
       "---\n",
       "Signif. codes:  0 ‘***’ 0.001 ‘**’ 0.01 ‘*’ 0.05 ‘.’ 0.1 ‘ ’ 1"
      ]
     },
     "metadata": {},
     "output_type": "display_data"
    },
    {
     "name": "stdout",
     "output_type": "stream",
     "text": [
      "-----------------------------------------------------------------------------\n",
      "Residual ANOVA"
     ]
    },
    {
     "data": {
      "text/plain": [
       "                          Df Sum Sq Mean Sq F value   Pr(>F)    \n",
       "A5$Study.                  1   5.08    5.08   1.491 0.227320    \n",
       "A5$TreatmentInt            1  57.93   57.93  17.001 0.000127 ***\n",
       "A5$Study.:A5$TreatmentInt  1   2.28    2.28   0.670 0.416568    \n",
       "Residuals                 55 187.39    3.41                     \n",
       "---\n",
       "Signif. codes:  0 ‘***’ 0.001 ‘**’ 0.01 ‘*’ 0.05 ‘.’ 0.1 ‘ ’ 1"
      ]
     },
     "metadata": {},
     "output_type": "display_data"
    },
    {
     "name": "stdout",
     "output_type": "stream",
     "text": [
      "-----------------------------------------------------------------------------\n",
      "Grade ANOVA"
     ]
    },
    {
     "data": {
      "text/plain": [
       "                          Df Sum Sq Mean Sq F value   Pr(>F)    \n",
       "A5$Study.                  1     50      50   1.282    0.262    \n",
       "A5$TreatmentInt            1   5093    5093 131.480 3.31e-16 ***\n",
       "A5$Study.:A5$TreatmentInt  1      8       8   0.219    0.642    \n",
       "Residuals                 55   2131      39                     \n",
       "---\n",
       "Signif. codes:  0 ‘***’ 0.001 ‘**’ 0.01 ‘*’ 0.05 ‘.’ 0.1 ‘ ’ 1"
      ]
     },
     "metadata": {},
     "output_type": "display_data"
    }
   ],
   "source": [
    "line_anova5 <- aov(A5$Line~A5$Study. * A5$TreatmentInt, data= A5)\n",
    "branch_anova5 <- aov(A5$Branch~A5$Study. * A5$TreatmentInt, data= A5)\n",
    "conditional_anova5 <- aov(A5$Conditional~A5$Study. * A5$TreatmentInt, data= A5)\n",
    "residual_anova5 <- aov(A5$Redundancies~A5$Study. * A5$TreatmentInt, data= A5)\n",
    "grade_anova5 <- aov(A5$AssignmentGrade~A5$Study. * A5$TreatmentInt, data= A5)\n",
    "cat(\"-----------------------------------------------------------------------------\\n\")\n",
    "cat(\"Line ANOVA\")\n",
    "summary(line_anova5)\n",
    "cat(\"-----------------------------------------------------------------------------\\n\")\n",
    "cat(\"Branch ANOVA\")\n",
    "summary(branch_anova5)\n",
    "cat(\"-----------------------------------------------------------------------------\\n\")\n",
    "cat(\"Conditional ANOVA\")\n",
    "summary(conditional_anova5)\n",
    "cat(\"-----------------------------------------------------------------------------\\n\")\n",
    "cat(\"Residual ANOVA\")\n",
    "summary(residual_anova5)\n",
    "cat(\"-----------------------------------------------------------------------------\\n\")\n",
    "cat(\"Grade ANOVA\")\n",
    "summary(grade_anova5)"
   ]
  },
  {
   "cell_type": "markdown",
   "metadata": {},
   "source": [
    "## Analyze post-study survey\n",
    "\n",
    "Analyze the results of the post-study survey to determine whether there are any differences between the responses from the students in the two treaments. This data analysis uses a series t-tests to compare the two groups. Use the 'na.rm = TRUE' argument to ignore rows where the response is missing. "
   ]
  },
  {
   "cell_type": "markdown",
   "metadata": {},
   "source": [
    "### First, compute the means for each group for each question"
   ]
  },
  {
   "cell_type": "code",
   "execution_count": 14,
   "metadata": {},
   "outputs": [],
   "source": [
    "Q1_G1_mean <- mean(SurveyData[SurveyData$Group==\"1\",c(\"Q1\")], na.rm = TRUE)\n",
    "Q1_G2_mean <- mean(SurveyData[SurveyData$Group==\"2\",c(\"Q1\")], na.rm = TRUE)\n",
    "Q2_G1_mean <- mean(SurveyData[SurveyData$Group==\"1\",c(\"Q2\")], na.rm = TRUE)\n",
    "Q2_G2_mean <- mean(SurveyData[SurveyData$Group==\"2\",c(\"Q2\")], na.rm = TRUE)\n",
    "Q3_G1_mean <- mean(SurveyData[SurveyData$Group==\"1\",c(\"Q3\")], na.rm = TRUE)\n",
    "Q3_G2_mean <- mean(SurveyData[SurveyData$Group==\"2\",c(\"Q3\")], na.rm = TRUE)\n",
    "Q4_G1_mean <- mean(SurveyData[SurveyData$Group==\"1\",c(\"Q4\")], na.rm = TRUE)\n",
    "Q4_G2_mean <- mean(SurveyData[SurveyData$Group==\"2\",c(\"Q4\")], na.rm = TRUE)\n",
    "Q5_G1_mean <- mean(SurveyData[SurveyData$Group==\"1\",c(\"Q5\")], na.rm = TRUE)\n",
    "Q5_G2_mean <- mean(SurveyData[SurveyData$Group==\"2\",c(\"Q5\")], na.rm = TRUE)\n",
    "Q6_G1_mean <- mean(SurveyData[SurveyData$Group==\"1\",c(\"Q6\")], na.rm = TRUE)\n",
    "Q6_G2_mean <- mean(SurveyData[SurveyData$Group==\"2\",c(\"Q6\")], na.rm = TRUE)\n",
    "Q7_G1_mean <- mean(SurveyData[SurveyData$Group==\"1\",c(\"Q7\")], na.rm = TRUE)\n",
    "Q7_G2_mean <- mean(SurveyData[SurveyData$Group==\"2\",c(\"Q7\")], na.rm = TRUE)\n",
    "Q8_G1_mean <- mean(SurveyData[SurveyData$Group==\"1\",c(\"Q8\")], na.rm = TRUE)\n",
    "Q8_G2_mean <- mean(SurveyData[SurveyData$Group==\"2\",c(\"Q8\")], na.rm = TRUE)\n",
    "Q9_G1_mean <- mean(SurveyData[SurveyData$Group==\"1\",c(\"Q9\")], na.rm = TRUE)\n",
    "Q9_G2_mean <- mean(SurveyData[SurveyData$Group==\"2\",c(\"Q9\")], na.rm = TRUE)"
   ]
  },
  {
   "cell_type": "markdown",
   "metadata": {},
   "source": [
    "#### Create a Data Frame to easily display the results that appear in Table 5 in the paper"
   ]
  },
  {
   "cell_type": "code",
   "execution_count": 15,
   "metadata": {},
   "outputs": [
    {
     "data": {
      "text/html": [
       "<table>\n",
       "<caption>A data.frame: 9 × 3</caption>\n",
       "<thead>\n",
       "\t<tr><th scope=col>Question</th><th scope=col>Treatment A (Detailed)</th><th scope=col>Treatement B (Conceptual)</th></tr>\n",
       "\t<tr><th scope=col>&lt;fct&gt;</th><th scope=col>&lt;dbl&gt;</th><th scope=col>&lt;dbl&gt;</th></tr>\n",
       "</thead>\n",
       "<tbody>\n",
       "\t<tr><td>1</td><td>3.571429</td><td>5.818182</td></tr>\n",
       "\t<tr><td>2</td><td>4.250000</td><td>5.212121</td></tr>\n",
       "\t<tr><td>3</td><td>3.750000</td><td>5.515152</td></tr>\n",
       "\t<tr><td>4</td><td>3.178571</td><td>4.848485</td></tr>\n",
       "\t<tr><td>5</td><td>3.428571</td><td>5.606061</td></tr>\n",
       "\t<tr><td>6</td><td>3.821429</td><td>5.969697</td></tr>\n",
       "\t<tr><td>7</td><td>3.892857</td><td>5.787879</td></tr>\n",
       "\t<tr><td>8</td><td>5.142857</td><td>6.212121</td></tr>\n",
       "\t<tr><td>9</td><td>3.400000</td><td>6.212121</td></tr>\n",
       "</tbody>\n",
       "</table>\n"
      ],
      "text/latex": [
       "A data.frame: 9 × 3\n",
       "\\begin{tabular}{lll}\n",
       " Question & Treatment A (Detailed) & Treatement B (Conceptual)\\\\\n",
       " <fct> & <dbl> & <dbl>\\\\\n",
       "\\hline\n",
       "\t 1 & 3.571429 & 5.818182\\\\\n",
       "\t 2 & 4.250000 & 5.212121\\\\\n",
       "\t 3 & 3.750000 & 5.515152\\\\\n",
       "\t 4 & 3.178571 & 4.848485\\\\\n",
       "\t 5 & 3.428571 & 5.606061\\\\\n",
       "\t 6 & 3.821429 & 5.969697\\\\\n",
       "\t 7 & 3.892857 & 5.787879\\\\\n",
       "\t 8 & 5.142857 & 6.212121\\\\\n",
       "\t 9 & 3.400000 & 6.212121\\\\\n",
       "\\end{tabular}\n"
      ],
      "text/markdown": [
       "\n",
       "A data.frame: 9 × 3\n",
       "\n",
       "| Question &lt;fct&gt; | Treatment A (Detailed) &lt;dbl&gt; | Treatement B (Conceptual) &lt;dbl&gt; |\n",
       "|---|---|---|\n",
       "| 1 | 3.571429 | 5.818182 |\n",
       "| 2 | 4.250000 | 5.212121 |\n",
       "| 3 | 3.750000 | 5.515152 |\n",
       "| 4 | 3.178571 | 4.848485 |\n",
       "| 5 | 3.428571 | 5.606061 |\n",
       "| 6 | 3.821429 | 5.969697 |\n",
       "| 7 | 3.892857 | 5.787879 |\n",
       "| 8 | 5.142857 | 6.212121 |\n",
       "| 9 | 3.400000 | 6.212121 |\n",
       "\n"
      ],
      "text/plain": [
       "  Question Treatment A (Detailed) Treatement B (Conceptual)\n",
       "1 1        3.571429               5.818182                 \n",
       "2 2        4.250000               5.212121                 \n",
       "3 3        3.750000               5.515152                 \n",
       "4 4        3.178571               4.848485                 \n",
       "5 5        3.428571               5.606061                 \n",
       "6 6        3.821429               5.969697                 \n",
       "7 7        3.892857               5.787879                 \n",
       "8 8        5.142857               6.212121                 \n",
       "9 9        3.400000               6.212121                 "
      ]
     },
     "metadata": {},
     "output_type": "display_data"
    }
   ],
   "source": [
    "Survey_Results <- data.frame(c(\"1\",\"2\",\"3\",\"4\",\"5\",\"6\",\"7\",\"8\",\"9\"),\n",
    "                        c(Q1_G1_mean,Q2_G1_mean,Q3_G1_mean,Q4_G1_mean,Q5_G1_mean,Q6_G1_mean,Q7_G1_mean,Q8_G1_mean,Q9_G1_mean),\n",
    "                        c(Q1_G2_mean,Q2_G2_mean,Q3_G2_mean,Q4_G2_mean,Q5_G2_mean,Q6_G2_mean,Q7_G2_mean,Q8_G2_mean,Q9_G2_mean))\n",
    "colnames(Survey_Results) <- c(\"Question\", \"Treatment A (Detailed)\",\"Treatement B (Conceptual)\")\n",
    "Survey_Results"
   ]
  },
  {
   "cell_type": "markdown",
   "metadata": {},
   "source": [
    "### Second, compare the means of the two groups using t-tests"
   ]
  },
  {
   "cell_type": "code",
   "execution_count": 16,
   "metadata": {},
   "outputs": [],
   "source": [
    "Q1 <- t.test(SurveyData[SurveyData$Group==\"1\",c(\"Q1\")],SurveyData[SurveyData$Group==\"2\",c(\"Q1\")])\n",
    "Q2 <- t.test(SurveyData[SurveyData$Group==\"1\",c(\"Q2\")],SurveyData[SurveyData$Group==\"2\",c(\"Q2\")])\n",
    "Q3 <- t.test(SurveyData[SurveyData$Group==\"1\",c(\"Q3\")],SurveyData[SurveyData$Group==\"2\",c(\"Q3\")])\n",
    "Q4 <- t.test(SurveyData[SurveyData$Group==\"1\",c(\"Q4\")],SurveyData[SurveyData$Group==\"2\",c(\"Q4\")])\n",
    "Q5 <- t.test(SurveyData[SurveyData$Group==\"1\",c(\"Q5\")],SurveyData[SurveyData$Group==\"2\",c(\"Q5\")])\n",
    "Q6 <- t.test(SurveyData[SurveyData$Group==\"1\",c(\"Q6\")],SurveyData[SurveyData$Group==\"2\",c(\"Q6\")])\n",
    "Q7 <- t.test(SurveyData[SurveyData$Group==\"1\",c(\"Q7\")],SurveyData[SurveyData$Group==\"2\",c(\"Q7\")])\n",
    "Q8 <- t.test(SurveyData[SurveyData$Group==\"1\",c(\"Q8\")],SurveyData[SurveyData$Group==\"2\",c(\"Q8\")])\n",
    "Q9 <- t.test(SurveyData[SurveyData$Group==\"1\",c(\"Q9\")],SurveyData[SurveyData$Group==\"2\",c(\"Q9\")])"
   ]
  },
  {
   "cell_type": "markdown",
   "metadata": {},
   "source": [
    "#### Create a Data Frame to easily display the results of the t-tests"
   ]
  },
  {
   "cell_type": "code",
   "execution_count": 17,
   "metadata": {},
   "outputs": [
    {
     "data": {
      "text/html": [
       "<table>\n",
       "<caption>A data.frame: 9 × 3</caption>\n",
       "<thead>\n",
       "\t<tr><th scope=col>Question</th><th scope=col>t statistic</th><th scope=col>p-value</th></tr>\n",
       "\t<tr><th scope=col>&lt;fct&gt;</th><th scope=col>&lt;dbl&gt;</th><th scope=col>&lt;dbl&gt;</th></tr>\n",
       "</thead>\n",
       "<tbody>\n",
       "\t<tr><td>1</td><td>-5.724869</td><td>7.079943e-07</td></tr>\n",
       "\t<tr><td>2</td><td>-2.654544</td><td>1.019262e-02</td></tr>\n",
       "\t<tr><td>3</td><td>-3.560479</td><td>9.172575e-04</td></tr>\n",
       "\t<tr><td>4</td><td>-3.597007</td><td>8.255129e-04</td></tr>\n",
       "\t<tr><td>5</td><td>-4.869711</td><td>1.295436e-05</td></tr>\n",
       "\t<tr><td>6</td><td>-5.645153</td><td>5.421435e-07</td></tr>\n",
       "\t<tr><td>7</td><td>-4.070769</td><td>2.191574e-04</td></tr>\n",
       "\t<tr><td>8</td><td>-2.940463</td><td>5.799037e-03</td></tr>\n",
       "\t<tr><td>9</td><td>-3.272722</td><td>8.185621e-03</td></tr>\n",
       "</tbody>\n",
       "</table>\n"
      ],
      "text/latex": [
       "A data.frame: 9 × 3\n",
       "\\begin{tabular}{lll}\n",
       " Question & t statistic & p-value\\\\\n",
       " <fct> & <dbl> & <dbl>\\\\\n",
       "\\hline\n",
       "\t 1 & -5.724869 & 7.079943e-07\\\\\n",
       "\t 2 & -2.654544 & 1.019262e-02\\\\\n",
       "\t 3 & -3.560479 & 9.172575e-04\\\\\n",
       "\t 4 & -3.597007 & 8.255129e-04\\\\\n",
       "\t 5 & -4.869711 & 1.295436e-05\\\\\n",
       "\t 6 & -5.645153 & 5.421435e-07\\\\\n",
       "\t 7 & -4.070769 & 2.191574e-04\\\\\n",
       "\t 8 & -2.940463 & 5.799037e-03\\\\\n",
       "\t 9 & -3.272722 & 8.185621e-03\\\\\n",
       "\\end{tabular}\n"
      ],
      "text/markdown": [
       "\n",
       "A data.frame: 9 × 3\n",
       "\n",
       "| Question &lt;fct&gt; | t statistic &lt;dbl&gt; | p-value &lt;dbl&gt; |\n",
       "|---|---|---|\n",
       "| 1 | -5.724869 | 7.079943e-07 |\n",
       "| 2 | -2.654544 | 1.019262e-02 |\n",
       "| 3 | -3.560479 | 9.172575e-04 |\n",
       "| 4 | -3.597007 | 8.255129e-04 |\n",
       "| 5 | -4.869711 | 1.295436e-05 |\n",
       "| 6 | -5.645153 | 5.421435e-07 |\n",
       "| 7 | -4.070769 | 2.191574e-04 |\n",
       "| 8 | -2.940463 | 5.799037e-03 |\n",
       "| 9 | -3.272722 | 8.185621e-03 |\n",
       "\n"
      ],
      "text/plain": [
       "  Question t statistic p-value     \n",
       "1 1        -5.724869   7.079943e-07\n",
       "2 2        -2.654544   1.019262e-02\n",
       "3 3        -3.560479   9.172575e-04\n",
       "4 4        -3.597007   8.255129e-04\n",
       "5 5        -4.869711   1.295436e-05\n",
       "6 6        -5.645153   5.421435e-07\n",
       "7 7        -4.070769   2.191574e-04\n",
       "8 8        -2.940463   5.799037e-03\n",
       "9 9        -3.272722   8.185621e-03"
      ]
     },
     "metadata": {},
     "output_type": "display_data"
    }
   ],
   "source": [
    "Survey_Results_ttest <- data.frame(c(\"1\",\"2\",\"3\",\"4\",\"5\",\"6\",\"7\",\"8\",\"9\"),\n",
    "                             c(Q1$statistic,Q2$statistic,Q3$statistic,Q4$statistic,Q5$statistic,Q6$statistic,Q7$statistic,Q8$statistic,Q9$statistic),\n",
    "                             c(Q1$p.value,Q2$p.value,Q3$p.value,Q4$p.value,Q5$p.value,Q6$p.value,Q7$p.value,Q8$p.value,Q9$p.value))\n",
    "colnames(Survey_Results_ttest) <- c(\"Question\", \"t statistic\",\"p-value\")\n",
    "Survey_Results_ttest"
   ]
  }
 ],
 "metadata": {
  "kernelspec": {
   "display_name": "R",
   "language": "R",
   "name": "ir"
  },
  "language_info": {
   "codemirror_mode": "r",
   "file_extension": ".r",
   "mimetype": "text/x-r-source",
   "name": "R",
   "pygments_lexer": "r",
   "version": "3.6.1"
  }
 },
 "nbformat": 4,
 "nbformat_minor": 4
}
